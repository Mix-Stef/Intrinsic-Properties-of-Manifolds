{
 "cells": [
  {
   "cell_type": "code",
   "execution_count": 84,
   "metadata": {
    "collapsed": true
   },
   "outputs": [],
   "source": [
    "import sympy as smp\n",
    "from sympy.integrals.integrals import integrate"
   ]
  },
  {
   "cell_type": "markdown",
   "source": [
    "#### Goal:\n",
    "\n",
    "Given a Riemannian Metric defined on a manifold, compute as many *intrinsic* properties, meaning properties that can be derived by only knowning the metric and the respective coordinate system. Intuitively, \"intrinsic\" means that a blind observer could measure these properties by only moving along the manifold, without being aware of the ambient space in which the manifold might be embedded."
   ],
   "metadata": {
    "collapsed": false,
    "pycharm": {
     "name": "#%% md\n"
    }
   }
  },
  {
   "cell_type": "markdown",
   "source": [
    "#### Define the Riemannian Metric\n",
    "\n",
    "The metric is a symmetric bilinear form that when restricted on the tangent space of the manifold defines an inner product.\n",
    " $$g: T_{p}\\mathcal{M} \\times T_{p} \\mathcal{M} \\rightarrow \\mathbb{R}$$Essentially, it is a $n \\times n$ symmetric matrix, where $n$ is the dimension of the manifold (or, equivalently, of the tangent space)."
   ],
   "metadata": {
    "collapsed": false,
    "pycharm": {
     "name": "#%% md\n"
    }
   }
  },
  {
   "cell_type": "code",
   "execution_count": 85,
   "outputs": [],
   "source": [
    "# Example: Standard metric of the 2-sphere in spherical coordinates (theta, phi)\n",
    "# R = smp.Symbol('R')\n",
    "# theta = smp.Symbol('theta')\n",
    "# phi = smp.Symbol('phi')\n",
    "# g = smp.Matrix([[R**2, 0], [0, R**2 * (smp.sin(theta))**2]])"
   ],
   "metadata": {
    "collapsed": false,
    "pycharm": {
     "name": "#%%\n"
    }
   }
  },
  {
   "cell_type": "code",
   "execution_count": 86,
   "outputs": [],
   "source": [
    "# g"
   ],
   "metadata": {
    "collapsed": false,
    "pycharm": {
     "name": "#%%\n"
    }
   }
  },
  {
   "cell_type": "markdown",
   "source": [
    "#### First Fundamental Form Coefficient\n",
    "\n",
    "It is an equivalent way to encode the metric. For the 2-sphere and the metric defined above, the first fundamental form is givem by the following formula:\n",
    "\n",
    "$$ds^2 = E d\\theta \\otimes d\\theta + 2F d\\phi \\otimes d\\theta + G d\\phi \\otimes d\\phi $$\n",
    "\n",
    ",where $E = g_{00} = R^2$, $F = g_{01} = g_{10} = 0$ and $G = g_{11} = R^2 \\sin^2\\theta$. And so, for the 2-sphere: $$ds^2 = R^2\n",
    " d\\theta \\otimes d\\theta + R^2 \\sin^2\\theta d\\phi \\otimes d\\phi$$"
   ],
   "metadata": {
    "collapsed": false,
    "pycharm": {
     "name": "#%% md\n"
    }
   }
  },
  {
   "cell_type": "code",
   "execution_count": 87,
   "outputs": [],
   "source": [
    "def first_fundamental_form(metric):\n",
    "    E, F, G = metric.row(0)[0], metric.row(0)[1], metric.row(1)[1]\n",
    "    return E, F, G"
   ],
   "metadata": {
    "collapsed": false,
    "pycharm": {
     "name": "#%%\n"
    }
   }
  },
  {
   "cell_type": "markdown",
   "source": [
    "#### Compute the inverse metric\n",
    "\n",
    "It is the inverse by the usual linear algebra sense and it is denoted by $g_{ij}^{-1} = g^{ij}$"
   ],
   "metadata": {
    "collapsed": false
   }
  },
  {
   "cell_type": "code",
   "execution_count": 88,
   "outputs": [],
   "source": [
    "def inverse_metric(metric):\n",
    "    assert metric.det() != 0, 'The defined metric is not invertible.'\n",
    "    return metric.inv()"
   ],
   "metadata": {
    "collapsed": false,
    "pycharm": {
     "name": "#%%\n"
    }
   }
  },
  {
   "cell_type": "markdown",
   "source": [
    "#### Compute the Christoffel Symbols of the first and/or second kind\n",
    "\n",
    "Geometrically, the Christoffel Symbols of the second kind tell us how the basis vectors change from point to point on a manifold. If our manifold has dimension $n$, then we can define $n^3$ *functions* (they are **not** tensors), $\\Gamma_{ij}^{k}$, as: $$\\Gamma_{ij}^{k} = \\frac{\\partial \\textbf{e}_{i}}{\\partial x^{j}} \\cdot \\textbf{e}^{k}$$\n",
    "\n",
    "In local coordinates they can be computed by using the metric as follows $$\\displaystyle \\Gamma_{ij}^{k} = \\frac{1}{2} \\sum_{m=1}^{n} g^{km} \\Big( \\frac{\\partial g_{jm}}{\\partial x^{i}} + \\frac{\\partial g_{mi}}{\\partial x^{j}} - \\frac{\\partial g_{ij}}{\\partial x^{k}}       \\Big)$$"
   ],
   "metadata": {
    "collapsed": false,
    "pycharm": {
     "name": "#%% md\n"
    }
   }
  },
  {
   "cell_type": "code",
   "source": [
    "def christoffel_symbols(metric, coordinates, kind='second'):\n",
    "    assert kind == 'first' or kind == 'second', 'Invalid kind of Christoffel Symbols. Options are first or second.'\n",
    "\n",
    "    if kind == 'second':\n",
    "        coordinates = smp.ImmutableDenseNDimArray(coordinates)\n",
    "        m = smp.Symbol('m') # Dummy Index for the sum\n",
    "        n = metric.shape[0]\n",
    "        g_inv = metric.inv()\n",
    "        gammas = smp.MutableDenseNDimArray(smp.zeros(n**3), shape=(n,n,n))\n",
    "        for k in range(n): #coordinates\n",
    "            for i in range(n):\n",
    "                for j in range(n):\n",
    "                    gammas[k, i, j] = 0.5 * smp.Sum(g_inv[k,m]*(smp.diff(metric[j,m], coordinates[i]) + smp.diff(metric[m,i], coordinates[j]) - smp.diff(metric[i,j], coordinates[k])),\n",
    "                                                    (m, 0, n-1)).doit()\n",
    "        return smp.simplify(gammas)\n",
    "\n",
    "    elif kind == 'first':\n",
    "        coordinates = smp.ImmutableDenseNDimArray(coordinates)\n",
    "        n = metric.shape[0]\n",
    "        gammas = smp.MutableDenseNDimArray(smp.zeros(n**3), shape=(n,n,n))\n",
    "        for c in range(n): #coordinates\n",
    "            for a in range(n):\n",
    "                for b in range(n):\n",
    "                    gammas[c,a,b] = 0.5 * (smp.diff(metric[c,a], coordinates[b]) + smp.diff(metric[c,b], coordinates[a]) - smp.diff(metric[a,b], coordinates[c]))\n",
    "        return smp.simplify(gammas)"
   ],
   "metadata": {
    "collapsed": false,
    "pycharm": {
     "name": "#%%\n"
    }
   },
   "execution_count": 89,
   "outputs": []
  },
  {
   "cell_type": "markdown",
   "source": [
    "#### Compute the Riemann Curvature Tensor\n",
    "\n",
    "In local coordinates, the contravariant Riemann Curvature Tensor, $R_{\\sigma \\mu \\nu}^{\\rho}$, is given by: $$R_{\\sigma \\mu \\nu}^{\\rho} = \\partial_{\\mu} \\Gamma_{\\nu \\sigma}^{\\rho} - \\partial_{\\nu} \\Gamma_{\\mu \\sigma}^{\\rho} + \\Gamma_{\\mu \\lambda}^{\\rho} \\Gamma_{\\nu \\sigma}^{\\lambda} - \\Gamma_{\\nu \\lambda}^{\\rho} \\Gamma_{\\mu \\sigma}^{\\lambda}$$\n",
    "\n",
    "It measures the failure of parallel transport along a vector field defined on the manifold. In order to lower the upper index to get the covariant Riemann tensor we have to multiply by the metric as follows: $$R_{\\rho \\sigma \\mu \\nu} = g_{\\rho \\lambda} R_{\\sigma \\mu \\nu}^{\\lambda}$$"
   ],
   "metadata": {
    "collapsed": false,
    "pycharm": {
     "name": "#%% md\n"
    }
   }
  },
  {
   "cell_type": "code",
   "execution_count": 90,
   "outputs": [],
   "source": [
    "def riemann_tensor(metric, coordinates, tensor_type='covariant'):\n",
    "    assert tensor_type == 'covariant' or tensor_type == 'contravariant', 'Wrong tensor type. Options are contravariant and covariant'\n",
    "    if tensor_type == 'covariant':\n",
    "        gammas = christoffel_symbols(metric, coordinates)\n",
    "        n = metric.shape[0]\n",
    "        l = smp.Symbol('lambda') # Dummy Index for the sum\n",
    "        k = smp.Symbol('k') # Dummy Index for the sum\n",
    "        contr_rm = smp.MutableDenseNDimArray(smp.zeros(n**4), shape=(n,n,n,n))\n",
    "        for rho in range(n):\n",
    "            for sigma in range(n):\n",
    "                for mu in range(n):\n",
    "                    for nu in range(n):\n",
    "                        contr_rm[rho, sigma, mu, nu] = smp.diff(gammas[rho, nu, sigma], coordinates[mu]) - smp.diff(gammas[rho, mu, sigma], coordinates[nu]) + smp.Sum(gammas[rho, mu, l] * gammas[l, nu, sigma], (l, 0, n-1)).doit() - smp.Sum(gammas[rho, nu, k] * gammas[k, mu, sigma], (k, 0, n-1)).doit()\n",
    "\n",
    "        cov_rm = smp.MutableDenseNDimArray(smp.zeros(n**4), shape=(n,n,n,n))\n",
    "        s = smp.Symbol('s') # Dummy Index for the sum\n",
    "        for l in range(n):\n",
    "            for i in range(n):\n",
    "                for k in range(n):\n",
    "                    for j in range(n):\n",
    "                        cov_rm[l,i,k,j] = smp.Sum(metric[l,s]*contr_rm[s,i,k,j],(s, 0, n-1)).doit()\n",
    "        return smp.simplify(cov_rm)\n",
    "\n",
    "    elif tensor_type == 'contravariant':\n",
    "        gammas = christoffel_symbols(metric, coordinates)\n",
    "        n = metric.shape[0]\n",
    "        l = smp.Symbol('lambda') # Dummy Index for the sum\n",
    "        k = smp.Symbol('k') # Dummy Index for the sum\n",
    "        contr_rm = smp.MutableDenseNDimArray(smp.zeros(n**4), shape=(n,n,n,n))\n",
    "        for rho in range(n):\n",
    "            for sigma in range(n):\n",
    "                for mu in range(n):\n",
    "                    for nu in range(n):\n",
    "                        contr_rm[rho, sigma, mu, nu] = smp.diff(gammas[rho, nu, sigma], coordinates[mu]) - smp.diff(gammas[rho, mu, sigma], coordinates[nu]) + smp.Sum(gammas[rho, mu, l] * gammas[l, nu, sigma], (l, 0, n-1)).doit() - smp.Sum(gammas[rho, nu, k] * gammas[k, mu, sigma], (k, 0, n-1)).doit()\n",
    "\n",
    "        return smp.simplify(contr_rm)"
   ],
   "metadata": {
    "collapsed": false,
    "pycharm": {
     "name": "#%%\n"
    }
   }
  },
  {
   "cell_type": "markdown",
   "source": [
    "#### Compute the Ricci Tensor\n",
    "\n",
    "The Ricci Curvature Tensor measures how a shape is deformed as we move along geodesics in the manifold. It is a symmetric bilinear form of rank 2. We get it by contracting the covariant Riemann Curvature Tensor by the metric: $$R_{ij} = g^{kl}R_{kilj}$$"
   ],
   "metadata": {
    "collapsed": false,
    "pycharm": {
     "name": "#%% md\n"
    }
   }
  },
  {
   "cell_type": "code",
   "execution_count": 91,
   "outputs": [],
   "source": [
    "def ricci_tensor(metric, coordinates):\n",
    "    n = metric.shape[0]\n",
    "    g_inv = metric.inv()\n",
    "    rm = riemann_tensor(metric, coordinates, 'covariant')\n",
    "    rc = smp.MutableDenseNDimArray(smp.zeros(n**2), shape=(n,n))\n",
    "    a = smp.Symbol('a')\n",
    "    b = smp.Symbol('b')\n",
    "    for h in range(n):\n",
    "        for k in range(n):\n",
    "            rc[h,k] = smp.Sum(smp.Sum(g_inv[a,b]*rm[a,h,b,k] , (a, 0, n-1)), (b, 0, n-1)).doit()\n",
    "    return smp.simplify(rc)"
   ],
   "metadata": {
    "collapsed": false,
    "pycharm": {
     "name": "#%%\n"
    }
   }
  },
  {
   "cell_type": "markdown",
   "source": [
    "#### Compute Scalar Curvature\n",
    "\n",
    "Finally, the scalar curvature is computed by further contracting the Ricci Tensor by the metric: $$\\mathcal{R} = g^{ij}R_{ij}$$"
   ],
   "metadata": {
    "collapsed": false,
    "pycharm": {
     "name": "#%% md\n"
    }
   }
  },
  {
   "cell_type": "code",
   "execution_count": 92,
   "outputs": [],
   "source": [
    "def scalar_curvature(metric, coordinates):\n",
    "    n = metric.shape[0]\n",
    "    g_inv = metric.inv()\n",
    "    rc = ricci_tensor(metric, coordinates)\n",
    "    a = smp.Symbol('a')\n",
    "    b = smp.Symbol('b')\n",
    "    return smp.simplify(smp.Sum(smp.Sum(g_inv[a, b] * rc[a, b]  , (a, 0, n-1)), (b, 0, n-1)).doit())"
   ],
   "metadata": {
    "collapsed": false,
    "pycharm": {
     "name": "#%%\n"
    }
   }
  },
  {
   "cell_type": "markdown",
   "source": [
    "#### Compute Gaussian Curvature\n",
    "\n",
    "The Gaussian Curvature, K, is yet another intrinsic property of a manifold. It is defined as the product of the principal curvatures at any given point: $$K = k_{1}k_{2}$$ A more \"Riemannian\" definition for a 2-manifold, with respect to the metric, is: $$K = \\frac{\\langle(\\nabla_{2} \\nabla_{1} - \\nabla_{1} \\nabla_{2})e_{1}, e_{2}\\rangle}{\\det g}$$. An alternative definition, using the first and second fundamental forms, is: $$K = \\frac{\\det(II)}{\\det(I)}$$ Gauss showed that the Gaussian Curvature is an intrinsic property and so it should only depend on the first fundamental form. Indeed, by the \"Brioschi formula\", we can express the Gaussian Curvature solely in terms of the coefficients of the first fundamental form: $$\\displaystyle K = \\frac{\\begin{vmatrix}-\\frac{1}{2}E_{vv} + F_{uv} - \\frac{1}{2}G_{uu}&\\frac{1}{2}E_{u}&F_{u} - \\frac{1}{2}E_{v}\\\\ F_{v} - \\frac{1}{2}G_{u}&E&F\\\\\\frac{1}{2}G_{v}&F&G \\end{vmatrix} - \\begin{vmatrix}0&\\frac{1}{2}E_{v}&\\frac{1}{2}G_{u}\\\\ \\frac{1}{2}E_{v}&E&F\\\\ \\frac{1}{2}G_{u}&F&G \\end{vmatrix}}{(EG - F^{2})^{2}}$$"
   ],
   "metadata": {
    "collapsed": false,
    "pycharm": {
     "name": "#%% md\n"
    }
   }
  },
  {
   "cell_type": "code",
   "execution_count": 93,
   "outputs": [],
   "source": [
    "def gaussian_curvature(metric, coordinates):\n",
    "    E, F, G = first_fundamental_form(metric)\n",
    "    left_mat = smp.Matrix([[-0.5*smp.diff(E, coordinates[1], coordinates[1]) + smp.diff(F, coordinates[0], coordinates[1]) -0.5*smp.diff(G, coordinates[0], coordinates[0]), 0.5*smp.diff(E, coordinates[0]), smp.diff(F, coordinates[0]) - 0.5*smp.diff(E, coordinates[1])], [smp.diff(F, coordinates[1]) - 0.5*smp.diff(G, coordinates[0]), E, F], [0.5*smp.diff(G, coordinates[1]), F, G]])\n",
    "\n",
    "    right_mat = smp.Matrix([[0, 0.5*smp.diff(E, coordinates[1]), 0.5*smp.diff(G, coordinates[0])], [0.5*smp.diff(E, coordinates[1]), E, F], [0.5*smp.diff(G, coordinates[0]), F, G]])\n",
    "\n",
    "    denominator = (E*G - F**2)**2\n",
    "\n",
    "    K = (smp.det(left_mat) - smp.det(right_mat)) / denominator\n",
    "    return smp.simplify(K)"
   ],
   "metadata": {
    "collapsed": false,
    "pycharm": {
     "name": "#%%\n"
    }
   }
  },
  {
   "cell_type": "markdown",
   "source": [
    "#### Compute the Euler Characteristic\n",
    "\n",
    "Given the Gaussian Curvature, K, of a 2-dimensional Riemannian manifold $\\mathcal{M}$, by the Gauss-Bonnet theorem, the Euler Characteristic, $\\chi$, is given by the following formula: $$\\int_{\\mathcal{M}} K dA + \\int_{\\partial \\mathcal{M}} k_{g} ds = 2 \\pi \\chi$$ where $dA$ is the infinitesimal area element, $\\partial \\mathcal{M}$ the boundary of the manifold and $k_{g}$ the geodesic curvature of the boundary. If $\\mathcal{M}$ is a manifold without boundary then the second integral of the left-hand side vanishes."
   ],
   "metadata": {
    "collapsed": false,
    "pycharm": {
     "name": "#%% md\n"
    }
   }
  },
  {
   "cell_type": "code",
   "execution_count": 94,
   "outputs": [],
   "source": [
    "def euler_characteristic(metric, coordinates, boundary=None):\n",
    "    if boundary is not None:\n",
    "        print('No implementation for manifolds with boundary yet! Set boundary=None')\n",
    "        return\n",
    "\n",
    "    E, F, G = first_fundamental_form(metric)\n",
    "    gauss_curvature = gaussian_curvature(metric, coordinates)\n",
    "    dA = smp.sqrt(E * G - F**2)  # Don't forget to multiply by the area-element correction factor!\n",
    "    integral = integrate(gauss_curvature * dA, (coordinates[0], 0, 2 * smp.pi), (coordinates[1], 0, smp.pi))\n",
    "    return smp.simplify(integral / (2 * smp.pi))"
   ],
   "metadata": {
    "collapsed": false,
    "pycharm": {
     "name": "#%%\n"
    }
   }
  },
  {
   "cell_type": "markdown",
   "source": [
    "#### Putting them all together in a class"
   ],
   "metadata": {
    "collapsed": false,
    "pycharm": {
     "name": "#%% md\n"
    }
   }
  },
  {
   "cell_type": "code",
   "execution_count": 95,
   "outputs": [],
   "source": [
    "class Intrinsic_Properties:\n",
    "    def __init__(self, metric, coordinates):\n",
    "        self.metric = metric\n",
    "        self.coordinates = coordinates\n",
    "\n",
    "    def first_fundamental_form(self):\n",
    "        \"\"\"\n",
    "        :return: SymPy Expressions, the coefficients of the first fundamental form\n",
    "        \"\"\"\n",
    "        E, F, G = self.metric.row(0)[0], self.metric.row(0)[1], self.metric.row(1)[1]\n",
    "        return E, F, G\n",
    "\n",
    "\n",
    "    def christoffel_symbols(self, kind='second'):\n",
    "        \"\"\"\n",
    "        :param kind: (str): either first or second. For the following propertiew we only need the second kind\n",
    "        :return: SymPy Expression, an nxnxn matrix\n",
    "        \"\"\"\n",
    "        assert kind == 'first' or kind == 'second', 'Invalid kind of Christoffel Symbols. Options are first or second.'\n",
    "\n",
    "        if kind == 'second':\n",
    "            self.coordinates = smp.ImmutableDenseNDimArray(self.coordinates)\n",
    "            m = smp.Symbol('m') # Dummy Index for the sum\n",
    "            n = self.metric.shape[0]\n",
    "            g_inv = self.metric.inv()\n",
    "            gammas = smp.MutableDenseNDimArray(smp.zeros(n**3), shape=(n,n,n)) #Initialization\n",
    "            for k in range(n): #coordinates\n",
    "                for i in range(n):\n",
    "                    for j in range(n):\n",
    "                        gammas[k, i, j] = 0.5 * smp.Sum(g_inv[k,m]*(smp.diff(self.metric[j,m], self.coordinates[i]) + smp.diff(self.metric[m,i], self.coordinates[j]) - smp.diff(self.metric[i,j], self.coordinates[k])),\n",
    "                                                        (m, 0, n-1)).doit()\n",
    "            return smp.simplify(gammas)\n",
    "\n",
    "        elif kind == 'first':\n",
    "            self.coordinates = smp.ImmutableDenseNDimArray(self.coordinates)\n",
    "            n = self.metric.shape[0]\n",
    "            g_inv = self.metric.inv()\n",
    "            gammas = smp.MutableDenseNDimArray(smp.zeros(n**3), shape=(n,n,n))\n",
    "            for c in range(n): #coordinates\n",
    "                for a in range(n):\n",
    "                    for b in range(n):\n",
    "                        gammas[c,a,b] = 0.5 * (smp.diff(self.metric[c,a], self.coordinates[b]) + smp.diff(self.metric[c,b], self.coordinates[a]) - smp.diff(self.metric[a,b], self.coordinates[c]))\n",
    "            return smp.simplify(gammas)\n",
    "\n",
    "\n",
    "\n",
    "\n",
    "    def riemann_tensor(self, tensor_type='covariant'):\n",
    "        \"\"\"\n",
    "        :param tensor_type: (str): either covariant or contravariant. We only need the covariant type\n",
    "        :return: SymPy Expression, an nxnxnxn matrix\n",
    "        \"\"\"\n",
    "        assert tensor_type == 'covariant' or tensor_type == 'contravariant', 'Wrong tensor type. Options are contravariant and covariant'\n",
    "        if tensor_type == 'covariant':\n",
    "            gammas = self.christoffel_symbols(kind='second')\n",
    "            n = self.metric.shape[0]\n",
    "            l = smp.Symbol('lambda') # Dummy Index for the sum\n",
    "            k = smp.Symbol('k') # Dummy Index for the sum\n",
    "            contr_rm = smp.MutableDenseNDimArray(smp.zeros(n**4), shape=(n,n,n,n))\n",
    "            for rho in range(n):\n",
    "                for sigma in range(n):\n",
    "                    for mu in range(n):\n",
    "                        for nu in range(n):\n",
    "                            contr_rm[rho, sigma, mu, nu] = smp.diff(gammas[rho, nu, sigma], self.coordinates[mu]) - smp.diff(gammas[rho, mu, sigma], self.coordinates[nu]) + smp.Sum(gammas[rho, mu, l] * gammas[l, nu, sigma], (l, 0, n-1)).doit() - smp.Sum(gammas[rho, nu, k] * gammas[k, mu, sigma], (k, 0, n-1)).doit()\n",
    "\n",
    "            cov_rm = smp.MutableDenseNDimArray(smp.zeros(n**4), shape=(n,n,n,n))\n",
    "            s = smp.Symbol('s') # Dummy Index for the sum\n",
    "            for l in range(n):\n",
    "                for i in range(n):\n",
    "                    for k in range(n):\n",
    "                        for j in range(n):\n",
    "                            cov_rm[l,i,k,j] = smp.Sum(self.metric[l,s]*contr_rm[s,i,k,j],(s, 0, n-1)).doit()\n",
    "            return smp.simplify(cov_rm)\n",
    "\n",
    "        elif type == 'contravariant':\n",
    "            gammas = self.christoffel_symbols(kind='second')\n",
    "            n = self.metric.shape[0]\n",
    "            l = smp.Symbol('lambda') # Dummy Index for the sum\n",
    "            k = smp.Symbol('k') # Dummy Index for the sum\n",
    "            contr_rm = smp.MutableDenseNDimArray(smp.zeros(n**4), shape=(n,n,n,n))\n",
    "            for rho in range(n):\n",
    "                for sigma in range(n):\n",
    "                    for mu in range(n):\n",
    "                        for nu in range(n):\n",
    "                            contr_rm[rho, sigma, mu, nu] = smp.diff(gammas[rho, nu, sigma], self.coordinates[mu]) - smp.diff(gammas[rho, mu, sigma], self.coordinates[nu]) + smp.Sum(gammas[rho, mu, l] * gammas[l, nu, sigma], (l, 0, n-1)).doit() - smp.Sum(gammas[rho, nu, k] * gammas[k, mu, sigma], (k, 0, n-1)).doit()\n",
    "            return contr_rm\n",
    "\n",
    "\n",
    "    def ricci_tensor(self):\n",
    "        \"\"\"\n",
    "        :return:  SymPy Expression, an nxn matrix\n",
    "        \"\"\"\n",
    "        n = self.metric.shape[0]\n",
    "        g_inv = self.metric.inv()\n",
    "        rm = self.riemann_tensor('covariant')\n",
    "        rc = smp.MutableDenseNDimArray(smp.zeros(n**2), shape=(n,n))\n",
    "        a = smp.Symbol('a')\n",
    "        b = smp.Symbol('b')\n",
    "        for h in range(n):\n",
    "            for k in range(n):\n",
    "                rc[h,k] = smp.Sum(smp.Sum(g_inv[a,b]*rm[a,h,b,k] , (a, 0, n-1)), (b, 0, n-1)).doit()\n",
    "        return smp.simplify(rc)\n",
    "\n",
    "\n",
    "    def scalar_curvature(self):\n",
    "        \"\"\"\n",
    "        :return:  SymPy Expression, the Scalar Curvature (a real number)\n",
    "        \"\"\"\n",
    "        n = self.metric.shape[0]\n",
    "        g_inv = self.metric.inv()\n",
    "        rc = self.ricci_tensor()\n",
    "        a = smp.Symbol('a')\n",
    "        b = smp.Symbol('b')\n",
    "        return smp.simplify(smp.Sum(smp.Sum(g_inv[a, b] * rc[a, b]  , (a, 0, n-1)), (b, 0, n-1)).doit())\n",
    "\n",
    "\n",
    "    def gaussian_curvature(self):\n",
    "        \"\"\"\n",
    "        :return:  SymPy Expression, the Gaussian Curvature\n",
    "        \"\"\"\n",
    "        E, F, G = self.first_fundamental_form()\n",
    "        left_mat = smp.Matrix([[-0.5*smp.diff(E, self.coordinates[1], self.coordinates[1]) + smp.diff(F, self.coordinates[0], self.coordinates[1]) -0.5*smp.diff(G, self.coordinates[0], self.coordinates[0]), 0.5*smp.diff(E, self.coordinates[0]), smp.diff(F, self.coordinates[0]) - 0.5*smp.diff(E, self.coordinates[1])], [smp.diff(F, self.coordinates[1]) - 0.5*smp.diff(G, self.coordinates[0]), E, F], [0.5*smp.diff(G, self.coordinates[1]), F, G]])\n",
    "\n",
    "        right_mat = smp.Matrix([[0, 0.5*smp.diff(E, self.coordinates[1]), 0.5*smp.diff(G, self.coordinates[0])], [0.5*smp.diff(E, self.coordinates[1]), E, F], [0.5*smp.diff(G, self.coordinates[0]), F, G]])\n",
    "\n",
    "        denominator = (E*G - F**2)**2\n",
    "\n",
    "        K = (smp.det(left_mat) - smp.det(right_mat)) / denominator\n",
    "        return smp.simplify(K)\n",
    "\n",
    "    def euler_characteristic(self, coordinate_restrictions, boundary=None):\n",
    "        \"\"\"\n",
    "        :param coordinate_restrictions: list with the boundaries of integration. For example for the 2-sphere, 0 <= θ <= 2π and 0 <=φ < π\n",
    "        :param boundary: Need to know the boundary of the manifold as well as how to compute the geodesic curvature in local coordinates\n",
    "        :return: SymPy Expression, the Euler Characteristic χ (an integer)\n",
    "        \"\"\"\n",
    "        if boundary is not None:\n",
    "            print('No implementation for manifolds with boundary yet! Set boundary=None')\n",
    "            return\n",
    "\n",
    "        E, F, G = self.first_fundamental_form()\n",
    "        gauss_curvature = self.gaussian_curvature()\n",
    "        dA = smp.sqrt(E * G - F**2)  # Don't forget to multiply by the area-element correction factor!\n",
    "        integral = integrate(gauss_curvature * dA, coordinate_restrictions[0], coordinate_restrictions[1])\n",
    "        return smp.simplify(integral / (2 * smp.pi))"
   ],
   "metadata": {
    "collapsed": false,
    "pycharm": {
     "name": "#%%\n"
    }
   }
  },
  {
   "cell_type": "markdown",
   "source": [
    "#### Example: 2-Sphere"
   ],
   "metadata": {
    "collapsed": false,
    "pycharm": {
     "name": "#%% md\n"
    }
   }
  },
  {
   "cell_type": "code",
   "execution_count": 96,
   "outputs": [],
   "source": [
    "#Standard metric of the 2-sphere in spherical coordinates (theta, phi)\n",
    "R = smp.Symbol('R')\n",
    "theta = smp.Symbol('theta')\n",
    "phi = smp.Symbol('phi')\n",
    "sphere_local_coordinates = [theta, phi]\n",
    "sphere_g = smp.Matrix([[R**2, 0], [0, R**2 * (smp.sin(theta))**2]])\n",
    "sphere_intr_prop = Intrinsic_Properties(metric=sphere_g, coordinates=sphere_local_coordinates)"
   ],
   "metadata": {
    "collapsed": false,
    "pycharm": {
     "name": "#%%\n"
    }
   }
  },
  {
   "cell_type": "code",
   "execution_count": 97,
   "outputs": [
    {
     "data": {
      "text/plain": "Matrix([\n[R**2,                  0],\n[   0, R**2*sin(theta)**2]])",
      "text/latex": "$\\displaystyle \\left[\\begin{matrix}R^{2} & 0\\\\0 & R^{2} \\sin^{2}{\\left(\\theta \\right)}\\end{matrix}\\right]$"
     },
     "execution_count": 97,
     "metadata": {},
     "output_type": "execute_result"
    }
   ],
   "source": [
    "sphere_g"
   ],
   "metadata": {
    "collapsed": false,
    "pycharm": {
     "name": "#%%\n"
    }
   }
  },
  {
   "cell_type": "code",
   "execution_count": 98,
   "outputs": [
    {
     "data": {
      "text/plain": "[[[0, 0], [0, -0.5*sin(2*theta)]], [[0, 1.0/tan(theta)], [1.0/tan(theta), 0]]]",
      "text/latex": "$\\displaystyle \\left[\\begin{matrix}\\left[\\begin{matrix}0 & 0\\\\0 & - 0.5 \\sin{\\left(2 \\theta \\right)}\\end{matrix}\\right] & \\left[\\begin{matrix}0 & \\frac{1.0}{\\tan{\\left(\\theta \\right)}}\\\\\\frac{1.0}{\\tan{\\left(\\theta \\right)}} & 0\\end{matrix}\\right]\\end{matrix}\\right]$"
     },
     "execution_count": 98,
     "metadata": {},
     "output_type": "execute_result"
    }
   ],
   "source": [
    "sphere_intr_prop.christoffel_symbols(kind='second')"
   ],
   "metadata": {
    "collapsed": false,
    "pycharm": {
     "name": "#%%\n"
    }
   }
  },
  {
   "cell_type": "code",
   "execution_count": 99,
   "outputs": [
    {
     "data": {
      "text/plain": "[[[[0, 0], [0, 0]], [[0, R**2*(0.5*sin(2*theta)/tan(theta) - 1.0*cos(2*theta))], [R**2*(-0.5*sin(2*theta)/tan(theta) + 1.0*cos(2*theta)), 0]]], [[[0, -1.0*R**2*sin(theta)**2], [1.0*R**2*sin(theta)**2, 0]], [[0, 0], [0, 0]]]]",
      "text/latex": "$\\displaystyle \\left[\\begin{matrix}\\left[\\begin{matrix}0 & 0\\\\0 & 0\\end{matrix}\\right] & \\left[\\begin{matrix}0 & R^{2} \\cdot \\left(\\frac{0.5 \\sin{\\left(2 \\theta \\right)}}{\\tan{\\left(\\theta \\right)}} - 1.0 \\cos{\\left(2 \\theta \\right)}\\right)\\\\R^{2} \\left(- \\frac{0.5 \\sin{\\left(2 \\theta \\right)}}{\\tan{\\left(\\theta \\right)}} + 1.0 \\cos{\\left(2 \\theta \\right)}\\right) & 0\\end{matrix}\\right]\\\\\\left[\\begin{matrix}0 & - 1.0 R^{2} \\sin^{2}{\\left(\\theta \\right)}\\\\1.0 R^{2} \\sin^{2}{\\left(\\theta \\right)} & 0\\end{matrix}\\right] & \\left[\\begin{matrix}0 & 0\\\\0 & 0\\end{matrix}\\right]\\end{matrix}\\right]$"
     },
     "execution_count": 99,
     "metadata": {},
     "output_type": "execute_result"
    }
   ],
   "source": [
    "sphere_intr_prop.riemann_tensor(tensor_type='covariant')"
   ],
   "metadata": {
    "collapsed": false,
    "pycharm": {
     "name": "#%%\n"
    }
   }
  },
  {
   "cell_type": "code",
   "execution_count": 100,
   "outputs": [
    {
     "data": {
      "text/plain": "[[1.0, 0], [0, 0.5*sin(2*theta)/tan(theta) - 1.0*cos(2*theta)]]",
      "text/latex": "$\\displaystyle \\left[\\begin{matrix}1.0 & 0\\\\0 & \\frac{0.5 \\sin{\\left(2 \\theta \\right)}}{\\tan{\\left(\\theta \\right)}} - 1.0 \\cos{\\left(2 \\theta \\right)}\\end{matrix}\\right]$"
     },
     "execution_count": 100,
     "metadata": {},
     "output_type": "execute_result"
    }
   ],
   "source": [
    "sphere_intr_prop.ricci_tensor()"
   ],
   "metadata": {
    "collapsed": false,
    "pycharm": {
     "name": "#%%\n"
    }
   }
  },
  {
   "cell_type": "code",
   "execution_count": 101,
   "outputs": [
    {
     "data": {
      "text/plain": "2.0/R**2",
      "text/latex": "$\\displaystyle \\frac{2.0}{R^{2}}$"
     },
     "execution_count": 101,
     "metadata": {},
     "output_type": "execute_result"
    }
   ],
   "source": [
    "sphere_intr_prop.scalar_curvature()"
   ],
   "metadata": {
    "collapsed": false,
    "pycharm": {
     "name": "#%%\n"
    }
   }
  },
  {
   "cell_type": "code",
   "execution_count": 102,
   "outputs": [
    {
     "data": {
      "text/plain": "1.0/R**2",
      "text/latex": "$\\displaystyle \\frac{1.0}{R^{2}}$"
     },
     "execution_count": 102,
     "metadata": {},
     "output_type": "execute_result"
    }
   ],
   "source": [
    "sphere_intr_prop.gaussian_curvature()"
   ],
   "metadata": {
    "collapsed": false,
    "pycharm": {
     "name": "#%%\n"
    }
   }
  },
  {
   "cell_type": "code",
   "execution_count": 103,
   "outputs": [
    {
     "data": {
      "text/plain": "2.0*sqrt(R**4)/R**2",
      "text/latex": "$\\displaystyle \\frac{2.0 \\sqrt{R^{4}}}{R^{2}}$"
     },
     "execution_count": 103,
     "metadata": {},
     "output_type": "execute_result"
    }
   ],
   "source": [
    "sphere_intr_prop.euler_characteristic([(sphere_local_coordinates[0], 0, 2*smp.pi), (sphere_local_coordinates[1], 0, smp.pi)])"
   ],
   "metadata": {
    "collapsed": false,
    "pycharm": {
     "name": "#%%\n"
    }
   }
  },
  {
   "cell_type": "markdown",
   "source": [
    "#### Example: 2-Torus"
   ],
   "metadata": {
    "collapsed": false,
    "pycharm": {
     "name": "#%% md\n"
    }
   }
  },
  {
   "cell_type": "code",
   "execution_count": 104,
   "outputs": [],
   "source": [
    "# Metric of the torus\n",
    "R, r = smp.symbols('R r') # The big and small radius\n",
    "theta, phi = smp.symbols('theta phi') # Coordinates (both between 0 and 2π)\n",
    "torus_local_coordinates = [theta, phi]\n",
    "torus_g = smp.Matrix([[(R + r * smp.cos(phi))**2, 0], [0, r**2]])\n",
    "torus_intr_prop = Intrinsic_Properties(metric=torus_g, coordinates=torus_local_coordinates)"
   ],
   "metadata": {
    "collapsed": false,
    "pycharm": {
     "name": "#%%\n"
    }
   }
  },
  {
   "cell_type": "code",
   "execution_count": 105,
   "outputs": [
    {
     "data": {
      "text/plain": "Matrix([\n[(R + r*cos(phi))**2,    0],\n[                  0, r**2]])",
      "text/latex": "$\\displaystyle \\left[\\begin{matrix}\\left(R + r \\cos{\\left(\\phi \\right)}\\right)^{2} & 0\\\\0 & r^{2}\\end{matrix}\\right]$"
     },
     "execution_count": 105,
     "metadata": {},
     "output_type": "execute_result"
    }
   ],
   "source": [
    "torus_g"
   ],
   "metadata": {
    "collapsed": false,
    "pycharm": {
     "name": "#%%\n"
    }
   }
  },
  {
   "cell_type": "code",
   "execution_count": 106,
   "outputs": [
    {
     "data": {
      "text/plain": "[[[0, -1.0*r*sin(phi)/(R + r*cos(phi))], [-1.0*r*sin(phi)/(R + r*cos(phi)), 0]], [[1.0*(R + r*cos(phi))*sin(phi)/r, 0], [0, 0]]]",
      "text/latex": "$\\displaystyle \\left[\\begin{matrix}\\left[\\begin{matrix}0 & - \\frac{1.0 r \\sin{\\left(\\phi \\right)}}{R + r \\cos{\\left(\\phi \\right)}}\\\\- \\frac{1.0 r \\sin{\\left(\\phi \\right)}}{R + r \\cos{\\left(\\phi \\right)}} & 0\\end{matrix}\\right] & \\left[\\begin{matrix}\\frac{1.0 \\left(R + r \\cos{\\left(\\phi \\right)}\\right) \\sin{\\left(\\phi \\right)}}{r} & 0\\\\0 & 0\\end{matrix}\\right]\\end{matrix}\\right]$"
     },
     "execution_count": 106,
     "metadata": {},
     "output_type": "execute_result"
    }
   ],
   "source": [
    "torus_intr_prop.christoffel_symbols(kind='second')"
   ],
   "metadata": {
    "collapsed": false,
    "pycharm": {
     "name": "#%%\n"
    }
   }
  },
  {
   "cell_type": "code",
   "execution_count": 107,
   "outputs": [
    {
     "data": {
      "text/plain": "[[[[0, 0], [0, 0]], [[0, 1.0*r*(R + r*cos(phi))*cos(phi)], [-1.0*r*(R + r*cos(phi))*cos(phi), 0]]], [[[0, -1.0*r*(R + r*cos(phi))*cos(phi)], [1.0*r*(R + r*cos(phi))*cos(phi), 0]], [[0, 0], [0, 0]]]]",
      "text/latex": "$\\displaystyle \\left[\\begin{matrix}\\left[\\begin{matrix}0 & 0\\\\0 & 0\\end{matrix}\\right] & \\left[\\begin{matrix}0 & 1.0 r \\left(R + r \\cos{\\left(\\phi \\right)}\\right) \\cos{\\left(\\phi \\right)}\\\\- 1.0 r \\left(R + r \\cos{\\left(\\phi \\right)}\\right) \\cos{\\left(\\phi \\right)} & 0\\end{matrix}\\right]\\\\\\left[\\begin{matrix}0 & - 1.0 r \\left(R + r \\cos{\\left(\\phi \\right)}\\right) \\cos{\\left(\\phi \\right)}\\\\1.0 r \\left(R + r \\cos{\\left(\\phi \\right)}\\right) \\cos{\\left(\\phi \\right)} & 0\\end{matrix}\\right] & \\left[\\begin{matrix}0 & 0\\\\0 & 0\\end{matrix}\\right]\\end{matrix}\\right]$"
     },
     "execution_count": 107,
     "metadata": {},
     "output_type": "execute_result"
    }
   ],
   "source": [
    "torus_intr_prop.riemann_tensor(tensor_type='covariant')"
   ],
   "metadata": {
    "collapsed": false,
    "pycharm": {
     "name": "#%%\n"
    }
   }
  },
  {
   "cell_type": "code",
   "execution_count": 108,
   "outputs": [
    {
     "data": {
      "text/plain": "[[1.0*(R + r*cos(phi))*cos(phi)/r, 0], [0, 1.0*r*cos(phi)/(R + r*cos(phi))]]",
      "text/latex": "$\\displaystyle \\left[\\begin{matrix}\\frac{1.0 \\left(R + r \\cos{\\left(\\phi \\right)}\\right) \\cos{\\left(\\phi \\right)}}{r} & 0\\\\0 & \\frac{1.0 r \\cos{\\left(\\phi \\right)}}{R + r \\cos{\\left(\\phi \\right)}}\\end{matrix}\\right]$"
     },
     "execution_count": 108,
     "metadata": {},
     "output_type": "execute_result"
    }
   ],
   "source": [
    "torus_intr_prop.ricci_tensor()"
   ],
   "metadata": {
    "collapsed": false,
    "pycharm": {
     "name": "#%%\n"
    }
   }
  },
  {
   "cell_type": "code",
   "execution_count": 109,
   "outputs": [
    {
     "data": {
      "text/plain": "2.0*cos(phi)/(r*(R + r*cos(phi)))",
      "text/latex": "$\\displaystyle \\frac{2.0 \\cos{\\left(\\phi \\right)}}{r \\left(R + r \\cos{\\left(\\phi \\right)}\\right)}$"
     },
     "execution_count": 109,
     "metadata": {},
     "output_type": "execute_result"
    }
   ],
   "source": [
    "torus_intr_prop.scalar_curvature()"
   ],
   "metadata": {
    "collapsed": false,
    "pycharm": {
     "name": "#%%\n"
    }
   }
  },
  {
   "cell_type": "code",
   "execution_count": 110,
   "outputs": [
    {
     "data": {
      "text/plain": "1.0*cos(phi)/(r*(R + r*cos(phi)))",
      "text/latex": "$\\displaystyle \\frac{1.0 \\cos{\\left(\\phi \\right)}}{r \\left(R + r \\cos{\\left(\\phi \\right)}\\right)}$"
     },
     "execution_count": 110,
     "metadata": {},
     "output_type": "execute_result"
    }
   ],
   "source": [
    "torus_intr_prop.gaussian_curvature()"
   ],
   "metadata": {
    "collapsed": false,
    "pycharm": {
     "name": "#%%\n"
    }
   }
  },
  {
   "cell_type": "code",
   "execution_count": 111,
   "outputs": [
    {
     "data": {
      "text/plain": "1.0*Integral(sqrt(r**2*(R + r*cos(phi))**2)*cos(phi)/(R + r*cos(phi)), (phi, 0, 2*pi))/r",
      "text/latex": "$\\displaystyle \\frac{1.0 \\int\\limits_{0}^{2 \\pi} \\frac{\\sqrt{r^{2} \\left(R + r \\cos{\\left(\\phi \\right)}\\right)^{2}} \\cos{\\left(\\phi \\right)}}{R + r \\cos{\\left(\\phi \\right)}}\\, d\\phi}{r}$"
     },
     "execution_count": 111,
     "metadata": {},
     "output_type": "execute_result"
    }
   ],
   "source": [
    "torus_intr_prop.euler_characteristic(coordinate_restrictions=[(torus_local_coordinates[0], 0, 2*smp.pi), (torus_local_coordinates[1], 0, 2*smp.pi)])"
   ],
   "metadata": {
    "collapsed": false,
    "pycharm": {
     "name": "#%%\n"
    }
   }
  },
  {
   "cell_type": "markdown",
   "source": [
    "The above integral is indeed 0 but sympy does not reach the final result for some reason"
   ],
   "metadata": {
    "collapsed": false,
    "pycharm": {
     "name": "#%% md\n"
    }
   }
  }
 ],
 "metadata": {
  "kernelspec": {
   "display_name": "Python 3",
   "language": "python",
   "name": "python3"
  },
  "language_info": {
   "codemirror_mode": {
    "name": "ipython",
    "version": 2
   },
   "file_extension": ".py",
   "mimetype": "text/x-python",
   "name": "python",
   "nbconvert_exporter": "python",
   "pygments_lexer": "ipython2",
   "version": "2.7.6"
  }
 },
 "nbformat": 4,
 "nbformat_minor": 0
}